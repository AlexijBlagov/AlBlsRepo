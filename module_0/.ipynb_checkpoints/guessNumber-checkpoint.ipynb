{
 "cells": [
  {
   "cell_type": "code",
   "execution_count": 86,
   "metadata": {},
   "outputs": [
    {
     "name": "stdout",
     "output_type": "stream",
     "text": [
      "Ваш алгоритм угадывает число в среднем за 5 попыток\n"
     ]
    },
    {
     "data": {
      "text/plain": [
       "5"
      ]
     },
     "execution_count": 86,
     "metadata": {},
     "output_type": "execute_result"
    }
   ],
   "source": [
    "import numpy as np\n",
    "\n",
    "number=np.random.randint(1,101)             #загадали число\n",
    "def game_core_v1(number):\n",
    "        \n",
    "        count=0                             #счетчик попыток\n",
    "        while True:\n",
    "            count+=1                        #плюсуем попытку\n",
    "            predict=np.random.randint(1,101) #предполагаемое число\n",
    "            if number==predict:\n",
    "                return count\n",
    "\n",
    "def mean_r(a=1,b=101):\n",
    "    \"\"\"Integer mean definition.\n",
    "    \n",
    "    Keyword arguments:\n",
    "    a -- start of the range (default 1)\n",
    "    b -- end of range (default 101)\n",
    "    \n",
    "    \"\"\"\n",
    "    result=int(np.mean(range(a,b)))\n",
    "    return result\n",
    "            \n",
    "def game_core_v2(number):\n",
    "    \n",
    "    count=1\n",
    "    predict=np.random.randint(1,101)\n",
    "    while number!=predict:\n",
    "        count+=1\n",
    "        if number>predict:\n",
    "            predict+=1\n",
    "        elif number<predict:\n",
    "            predict-=1\n",
    "    return(count)\n",
    "\n",
    "def game_core_v3(number):\n",
    "    \"\"\"Guessing the number by the half division method.\n",
    "    \n",
    "    Keyword arguments:\n",
    "    number -- the hidden number\n",
    "    \n",
    "    \"\"\"\n",
    "    count=1\n",
    "    begin=1\n",
    "    end=102\n",
    "    predict=mean_r()                         #первая итерация предполагаемого числа\n",
    "    while number!=predict:\n",
    "        if predict<number:\n",
    "            begin=predict\n",
    "        else:\n",
    "            end=predict+1\n",
    "        predict=mean_r(begin,end)            #вторая и последующие итерации предполагаемого числа\n",
    "        count+=1\n",
    "    return(count)\n",
    "            \n",
    "        \n",
    "        \n",
    "\n",
    "def score_game(game_core):\n",
    "    \"\"\"Run the search function a thousand times to determine the speed of guessing.\n",
    "    \n",
    "    Keyword arguments:\n",
    "    game_core -- name of the search function\n",
    "    \n",
    "    \"\"\"\n",
    "    count_ls=[]\n",
    "    np.random.seed(1)\n",
    "    random_array=np.random.randint(1,101,size=(1000))\n",
    "    for number in random_array:\n",
    "        count_ls.append(game_core(number))\n",
    "    score=int(np.mean(count_ls))\n",
    "    print(f\"Ваш алгоритм угадывает число в среднем за {score} попыток\")\n",
    "    return (score)\n",
    "    \n",
    "#score_game(game_core_v1)\n",
    "#score_game(game_core_v2)\n",
    "score_game(game_core_v3)"
   ]
  }
 ],
 "metadata": {
  "kernelspec": {
   "display_name": "Python 3",
   "language": "python",
   "name": "python3"
  },
  "language_info": {
   "codemirror_mode": {
    "name": "ipython",
    "version": 3
   },
   "file_extension": ".py",
   "mimetype": "text/x-python",
   "name": "python",
   "nbconvert_exporter": "python",
   "pygments_lexer": "ipython3",
   "version": "3.8.5"
  }
 },
 "nbformat": 4,
 "nbformat_minor": 4
}
